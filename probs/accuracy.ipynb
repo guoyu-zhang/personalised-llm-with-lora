{
 "cells": [
  {
   "cell_type": "code",
   "execution_count": 10,
   "metadata": {},
   "outputs": [
    {
     "name": "stdout",
     "output_type": "stream",
     "text": [
      "Accuracy: 56.33%\n",
      "Number of instances where first file's values are smaller: 169\n",
      "Total comparisons: 300\n"
     ]
    }
   ],
   "source": [
    "def read_data(file_path):\n",
    "    \"\"\"Read float values from a file.\"\"\"\n",
    "    with open(file_path, 'r') as file:\n",
    "        data = [float(line.strip()) for line in file][:-1]\n",
    "    return data\n",
    "\n",
    "# 62.00 54.00 56.33 45.33\n",
    "# Paths to your files\n",
    "file_path1 = './shp/user1/hh_shp1_dpo9_c.txt'  # Path to the first file\n",
    "file_path2 = './shp/user1/hh_shp1_dpo9_r.txt'  # Path to the second file\n",
    "\n",
    "# Read data from files\n",
    "data1 = read_data(file_path1)\n",
    "data2 = read_data(file_path2)\n",
    "\n",
    "# Check that both files have the same length\n",
    "if len(data1) != len(data2):\n",
    "    raise ValueError(\"Files do not have the same length\")\n",
    "\n",
    "# Compare values pairwise and calculate accuracy\n",
    "count_smaller = sum(1 for x, y in zip(data1, data2) if x < y)\n",
    "total_comparisons = len(data1)  # This is safe because we checked that lengths are the same\n",
    "\n",
    "# Calculate accuracy as a percentage\n",
    "accuracy = (count_smaller / total_comparisons) * 100\n",
    "\n",
    "# Print the results\n",
    "print(f\"Accuracy: {accuracy:.2f}%\")\n",
    "print(f\"Number of instances where first file's values are smaller: {count_smaller}\")\n",
    "print(f\"Total comparisons: {total_comparisons}\")\n"
   ]
  }
 ],
 "metadata": {
  "kernelspec": {
   "display_name": "Python 3",
   "language": "python",
   "name": "python3"
  },
  "language_info": {
   "codemirror_mode": {
    "name": "ipython",
    "version": 3
   },
   "file_extension": ".py",
   "mimetype": "text/x-python",
   "name": "python",
   "nbconvert_exporter": "python",
   "pygments_lexer": "ipython3",
   "version": "3.10.6"
  }
 },
 "nbformat": 4,
 "nbformat_minor": 2
}
